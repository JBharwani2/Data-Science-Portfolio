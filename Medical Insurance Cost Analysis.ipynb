{
 "cells": [
  {
   "cell_type": "markdown",
   "metadata": {},
   "source": [
    "# U.S. Medical Insurance Costs Analysis\n",
    "*[Data](https://github.com/JBharwani2/Data-Science-Portfolio/blob/main/insurance.csv) accessed through a CSV file provided by www.codecademy.com*\n",
    "\n",
    "This project analyzes the cost of patients' medical insurance in the U.S. and the factors that may influence this cost.\n",
    "\n",
    "### The following information will be presented based on the data:\n",
    "- A dictionary that contains all patient information\n",
    "- Average age of the patients\n",
    "- Number of males vs. females counted in the dataset\n",
    "- Percentage of patients that smoke\n",
    "- Average cost of medical insurance for these patients\n",
    "- Geographical breakdown of the patients\n",
    "\n",
    "\n",
    "### The following question will be researched in this project:\n",
    "- Is there a difference in cost for individuals that smoke?\n",
    "- Is there a correlation between insurance cost and gender?\n",
    "- Does age or body mass index affect the difference in cost between genders?\n",
    "- Does a patient's region affect the difference in cost between genders?"
   ]
  },
  {
   "cell_type": "code",
   "execution_count": 1,
   "metadata": {},
   "outputs": [],
   "source": [
    "import csv"
   ]
  },
  {
   "cell_type": "markdown",
   "metadata": {},
   "source": [
    "The only necessary import for this project is the `csv` library which will allow for accessing the csv file containing the U.S. medical insurance data. Further study can be done on this data with the addition of other libraries."
   ]
  },
  {
   "cell_type": "code",
   "execution_count": 2,
   "metadata": {},
   "outputs": [],
   "source": [
    "insurance_data = []\n",
    "with open(\"insurance.csv\") as insurance_csv:\n",
    "    csv_data = csv.DictReader(insurance_csv)\n",
    "    \n",
    "    # For each row of data in the file, a new dictionary is added to the insurance data list\n",
    "    for row in csv_data:\n",
    "        insurance_data.append(row)"
   ]
  },
  {
   "cell_type": "markdown",
   "metadata": {},
   "source": [
    "A list is developed to store the data contained in the csv file by iterating through each row and saving each as an individual dictionary. A list data-type is used in this case since there are no defining characteristics of each patient besides the index of each list entry. Meanwhile, it is easy to iterate through the list entries and access the dictionary details via the shared column names: age, sex, bmi, children, smoker, region, charges."
   ]
  },
  {
   "cell_type": "code",
   "execution_count": 3,
   "metadata": {},
   "outputs": [
    {
     "name": "stdout",
     "output_type": "stream",
     "text": [
      "The average age of the set of patients is 39\n"
     ]
    }
   ],
   "source": [
    "total_age = 0\n",
    "for line in insurance_data:\n",
    "    total_age += int(line[\"age\"])\n",
    "    \n",
    "average_age = int(total_age / len(insurance_data))\n",
    "\n",
    "print(\"The average age of the set of patients is \" + str(average_age))"
   ]
  },
  {
   "cell_type": "code",
   "execution_count": 4,
   "metadata": {},
   "outputs": [
    {
     "name": "stdout",
     "output_type": "stream",
     "text": [
      "676 male\n",
      "662 female\n",
      "The ratio between men to women is approximately 1:1\n"
     ]
    }
   ],
   "source": [
    "female_count = 0\n",
    "male_count = 0\n",
    "for line in insurance_data:\n",
    "    if \"female\" in line[\"sex\"]:\n",
    "        female_count += 1\n",
    "    else:\n",
    "        male_count += 1\n",
    "        \n",
    "male_female_ratio = int(male_count / female_count)\n",
    "\n",
    "print(str(male_count) + \" male\")\n",
    "print(str(female_count) + \" female\")\n",
    "print(\"The ratio between men to women is approximately \" + str(male_female_ratio) + \":1\")"
   ]
  },
  {
   "cell_type": "code",
   "execution_count": 5,
   "metadata": {},
   "outputs": [
    {
     "name": "stdout",
     "output_type": "stream",
     "text": [
      "4.88% of patients are smokers\n"
     ]
    }
   ],
   "source": [
    "smoker_count = 0\n",
    "total_patients = len(insurance_data)\n",
    "\n",
    "for line in insurance_data:\n",
    "    if line[\"smoker\"] == \"yes\":\n",
    "        smoker_count += 1\n",
    "\n",
    "smoker_ratio = round(total_patients / smoker_count, 2)\n",
    "        \n",
    "print(str(smoker_ratio) + \"% of patients are smokers\")"
   ]
  },
  {
   "cell_type": "code",
   "execution_count": 6,
   "metadata": {},
   "outputs": [
    {
     "name": "stdout",
     "output_type": "stream",
     "text": [
      "The average cost of patients' medical insurance: $13270.42\n"
     ]
    }
   ],
   "source": [
    "total_spending = 0\n",
    "\n",
    "for line in insurance_data:\n",
    "    total_spending += float(line[\"charges\"])\n",
    "\n",
    "average_cost = round(total_spending / total_patients, 2)\n",
    "    \n",
    "print(\"The average cost of patients' medical insurance: $\" + str(average_cost))"
   ]
  },
  {
   "cell_type": "code",
   "execution_count": 7,
   "metadata": {},
   "outputs": [
    {
     "name": "stdout",
     "output_type": "stream",
     "text": [
      "The following is the regional breakdown of patients:\n",
      "Northwest: 325\t\t Northeast: 324\n",
      "Southwest: 325\t\t Southeast: 364\n"
     ]
    }
   ],
   "source": [
    "north_west = 0\n",
    "south_west = 0\n",
    "north_east = 0\n",
    "south_east = 0\n",
    "\n",
    "for line in insurance_data:\n",
    "    if line[\"region\"] == \"northwest\":\n",
    "        north_west += 1\n",
    "    elif line[\"region\"] == \"southwest\":\n",
    "        south_west += 1\n",
    "    elif line[\"region\"] == \"northeast\":\n",
    "        north_east += 1\n",
    "    elif line[\"region\"] == \"southeast\":\n",
    "        south_east += 1\n",
    "\n",
    "print(\"The following is the regional breakdown of patients:\")\n",
    "print(\"Northwest: \" + str(north_west) + \"\\t\\t Northeast: \" + str(north_east))\n",
    "print(\"Southwest: \" + str(south_west) + \"\\t\\t Southeast: \" + str(south_east))"
   ]
  },
  {
   "cell_type": "code",
   "execution_count": 8,
   "metadata": {},
   "outputs": [
    {
     "name": "stdout",
     "output_type": "stream",
     "text": [
      "The average cost for patients that smoke is $23615.96 higher than patients that do not.\n"
     ]
    }
   ],
   "source": [
    "smoker_cost = 0\n",
    "non_smoker_cost = 0\n",
    "\n",
    "for patient in insurance_data:\n",
    "    patient_cost = float(patient[\"charges\"])\n",
    "    if patient[\"smoker\"] == \"yes\":\n",
    "        smoker_cost += patient_cost\n",
    "    else:\n",
    "        non_smoker_cost += patient_cost\n",
    "        \n",
    "smoker_cost = smoker_cost / smoker_count\n",
    "non_smoker_cost = non_smoker_cost / (total_patients - smoker_count)\n",
    "smoker_cost_difference = round(smoker_cost - non_smoker_cost, 2)\n",
    "\n",
    "print(\"The average cost for patients that smoke is $\" + str(smoker_cost_difference) + \" higher than patients that do not.\")"
   ]
  },
  {
   "cell_type": "markdown",
   "metadata": {},
   "source": [
    "The above analyses shows that there is a steep difference in medical insurance cost between patient's that smoke compared to those that do not. Being a smoker increases patient costs by over $23,000 on average. This discovers a key component that increases the cost of medical insurance."
   ]
  },
  {
   "cell_type": "code",
   "execution_count": 9,
   "metadata": {},
   "outputs": [
    {
     "name": "stdout",
     "output_type": "stream",
     "text": [
      "115 female patients smoke\n",
      "159 male patients smoke\n",
      "---\n",
      "The average cost for female patients that do not smoke: $8762.3\n",
      "The average cost for male patients that do not smoke: $8087.2\n",
      "---\n",
      "The average cost for female patients that smoke: $30679.0\n",
      "The average cost for male patients that smoke: $33042.01\n"
     ]
    }
   ],
   "source": [
    "female_cost = 0\n",
    "male_cost = 0\n",
    "female_smoker_cost = 0\n",
    "male_smoker_cost = 0\n",
    "\n",
    "female_smoker_count = 0\n",
    "male_smoker_count = 0\n",
    "\n",
    "for patient in insurance_data:\n",
    "    patient_cost = float(patient[\"charges\"])\n",
    "    if patient[\"sex\"] == \"female\":   \n",
    "        if patient[\"smoker\"] == \"yes\":\n",
    "            female_smoker_cost += patient_cost\n",
    "            female_smoker_count += 1\n",
    "        else:\n",
    "            female_cost += patient_cost\n",
    "    elif patient[\"sex\"] == \"male\":   \n",
    "        if patient[\"smoker\"] == \"yes\":\n",
    "            male_smoker_cost += patient_cost\n",
    "            male_smoker_count += 1\n",
    "        else:\n",
    "            male_cost += patient_cost\n",
    "        \n",
    "female_cost = round(female_cost / (female_count - female_smoker_count), 2)\n",
    "male_cost = round(male_cost / (male_count - male_smoker_count), 2)\n",
    "female_smoker_cost = round(female_smoker_cost / female_smoker_count, 2)\n",
    "male_smoker_cost = round(male_smoker_cost / male_smoker_count, 2)\n",
    "\n",
    "gender_cost_difference = round(female_cost - male_cost, 2)\n",
    "\n",
    "print(str(female_smoker_count) + \" female patients smoke\")\n",
    "print(str(male_smoker_count) + \" male patients smoke\")\n",
    "print(\"---\")\n",
    "print(\"The average cost for female patients that do not smoke: $\" + str(female_cost))\n",
    "print(\"The average cost for male patients that do not smoke: $\" + str(male_cost))\n",
    "print(\"---\")\n",
    "print(\"The average cost for female patients that smoke: $\" + str(female_smoker_cost))\n",
    "print(\"The average cost for male patients that smoke: $\" + str(male_smoker_cost))"
   ]
  },
  {
   "cell_type": "markdown",
   "metadata": {},
   "source": [
    "Due to the previous findings that being a smoker greatly increases the cost of insurance, the analysis of cost differences due to sex was approached differently. This analysis divides the patients into a group that smokes and a group that does not. The data shows that there are more male patients that smoke compared to female patients that smoke. This, in-turn, results in male smokers having a higher average cost than female smokers by roughly \\\\$2,500. However, for patients that do not smoke, females paid \\\\$675 more on average than male patients.\n",
    "\n",
    "Other factors that are not being considered in this analysis are BMI, age, and region. However, the separation of smokers from the dataset shows a possible correlation between sex and medical insurance costs."
   ]
  },
  {
   "cell_type": "code",
   "execution_count": 10,
   "metadata": {},
   "outputs": [
    {
     "name": "stdout",
     "output_type": "stream",
     "text": [
      "The following is the statistical breakdown of patient age by gender:\n",
      "Mean of female age: 39.5\t\t Median of female age: 40.0\n",
      "Mean of male age: 38.92\t\t\t Median of male age: 39.0\n",
      "\n",
      "The following is the statistical breakdown of patient BMI by gender:\n",
      "Mean of female BMI: 30.38\t\t Median of female BMI: 30.11\n",
      "Mean of male BMI: 30.94\t\t\t Median of male BMI: 30.69\n"
     ]
    }
   ],
   "source": [
    "def find_median(input_list):\n",
    "    n = len(input_list)\n",
    "    input_list.sort()\n",
    "    \n",
    "    if n % 2 == 0:\n",
    "        med1 = input_list[n//2]\n",
    "        med2 = input_list[n//2 - 1]\n",
    "        median = (med1 + med2) / 2\n",
    "    else:\n",
    "        median = input_list[n//2]\n",
    "    \n",
    "    return round(median, 2)\n",
    "        \n",
    "female_age = 0\n",
    "male_age = 0\n",
    "female_BMI = 0\n",
    "male_BMI = 0\n",
    "\n",
    "female_age_list = []\n",
    "male_age_list = []\n",
    "female_BMI_list = []\n",
    "male_BMI_list = []\n",
    "\n",
    "for patient in insurance_data:\n",
    "    patient_cost = float(patient[\"charges\"])\n",
    "    if patient[\"sex\"] == \"female\":   \n",
    "        female_age += int(patient[\"age\"])\n",
    "        female_BMI += float(patient[\"bmi\"])\n",
    "        female_age_list.append(int(patient[\"age\"]))\n",
    "        female_BMI_list.append(float(patient[\"bmi\"]))\n",
    "    else:\n",
    "        male_age += int(patient[\"age\"])\n",
    "        male_BMI += float(patient[\"bmi\"])\n",
    "        male_age_list.append(int(patient[\"age\"]))\n",
    "        male_BMI_list.append(float(patient[\"bmi\"]))          \n",
    "\n",
    "# Solve for each mean value\n",
    "female_age_mean = round(female_age / female_count, 2)\n",
    "male_age_mean = round(male_age / male_count, 2)\n",
    "female_BMI_mean = round(female_BMI / female_count, 2)\n",
    "male_BMI_mean = round(male_BMI / male_count, 2)\n",
    "\n",
    "# Solve for each median value\n",
    "female_age_median = find_median(female_age_list)\n",
    "male_age_median = find_median(male_age_list)\n",
    "female_BMI_median = find_median(female_BMI_list)\n",
    "male_BMI_median = find_median(male_BMI_list)\n",
    "\n",
    "print(\"The following is the statistical breakdown of patient age by gender:\")\n",
    "print(\"Mean of female age: \" + str(female_age_mean) + \"\\t\\t Median of female age: \" + str(female_age_median))\n",
    "print(\"Mean of male age: \" + str(male_age_mean) + \"\\t\\t\\t Median of male age: \" + str(male_age_median))\n",
    "\n",
    "print(\"\\nThe following is the statistical breakdown of patient BMI by gender:\")\n",
    "print(\"Mean of female BMI: \" + str(female_BMI_mean) + \"\\t\\t Median of female BMI: \" + str(female_BMI_median))\n",
    "print(\"Mean of male BMI: \" + str(male_BMI_mean) + \"\\t\\t\\t Median of male BMI: \" + str(male_BMI_median))"
   ]
  },
  {
   "cell_type": "markdown",
   "metadata": {},
   "source": [
    "Age and BMI were two of the factors named above that were not accounted for when investigating the difference in cost between males and females. However, understanding the median of mode of each subset's age can show if the data is skewed in either direction. \n",
    "\n",
    "By observing the above findings, both the mean and median of age and BMI seem to be similar regardless of sex. Even though age is skewed towards younger patients and BMI is skewed towards a higher value, both females and males have the same skew in their data. This shows that both age and BMI have little effect on the cost difference found between males and females in this dataset."
   ]
  },
  {
   "cell_type": "code",
   "execution_count": 11,
   "metadata": {},
   "outputs": [
    {
     "name": "stdout",
     "output_type": "stream",
     "text": [
      "The following is the regional breakdown of the average insurance cost:\n",
      "Northwest: $12417.58\t\t Northeast: $13406.38\n",
      "Southwest: $12346.94\t\t Southeast: $14735.41\n",
      "\n",
      "The number of female patients per region:\n",
      "Northwest: 164\t\t Northeast: 161\n",
      "Southwest: 162\t\t Southeast: 175\n",
      "\n",
      "The number of male patients per region:\n",
      "Northwest: 161\t\t Northeast: 163\n",
      "Southwest: 163\t\t Southeast: 189\n"
     ]
    }
   ],
   "source": [
    "# Function used to count males and females for each region\n",
    "def sex_count(patient, female_count, male_count):    \n",
    "    if patient[\"sex\"] == \"female\":\n",
    "        female_count += 1\n",
    "    else:\n",
    "        male_count += 1\n",
    "        \n",
    "    return female_count, male_count\n",
    "\n",
    "north_west_average_cost = 0\n",
    "south_west_average_cost = 0\n",
    "north_east_average_cost = 0\n",
    "south_east_average_cost = 0\n",
    "\n",
    "north_west_female = 0\n",
    "south_west_female = 0\n",
    "north_east_female = 0\n",
    "south_east_female = 0\n",
    "\n",
    "north_west_male = 0\n",
    "south_west_male = 0\n",
    "north_east_male = 0\n",
    "south_east_male = 0\n",
    "\n",
    "for patient in insurance_data:\n",
    "    patient_cost = float(patient[\"charges\"])\n",
    "    \n",
    "    if patient[\"region\"] == \"northwest\":\n",
    "        north_west_average_cost += patient_cost\n",
    "        north_west_female, north_west_male = sex_count(patient, north_west_female, north_west_male)\n",
    "    elif patient[\"region\"] == \"southwest\":\n",
    "        south_west_average_cost += patient_cost\n",
    "        south_west_female, south_west_male = sex_count(patient, south_west_female, south_west_male)\n",
    "    elif patient[\"region\"] == \"northeast\":\n",
    "        north_east_average_cost += patient_cost\n",
    "        north_east_female, north_east_male = sex_count(patient, north_east_female, north_east_male)\n",
    "    elif patient[\"region\"] == \"southeast\":\n",
    "        south_east_average_cost += patient_cost\n",
    "        south_east_female, south_east_male = sex_count(patient, south_east_female, south_east_male)\n",
    "        \n",
    "north_west_average_cost = round(north_west_average_cost / north_west, 2)\n",
    "south_west_average_cost = round(south_west_average_cost / south_west, 2)\n",
    "north_east_average_cost = round(north_east_average_cost / north_east, 2)\n",
    "south_east_average_cost = round(south_east_average_cost / south_east, 2)\n",
    "\n",
    "print(\"The following is the regional breakdown of the average insurance cost:\")\n",
    "print(\"Northwest: $\" + str(north_west_average_cost) + \"\\t\\t Northeast: $\" + str(north_east_average_cost))\n",
    "print(\"Southwest: $\" + str(south_west_average_cost) + \"\\t\\t Southeast: $\" + str(south_east_average_cost))\n",
    "                                                       \n",
    "print(\"\\nThe number of female patients per region:\")\n",
    "print(\"Northwest: \" + str(north_west_female) + \"\\t\\t Northeast: \" + str(north_east_female))\n",
    "print(\"Southwest: \" + str(south_west_female) + \"\\t\\t Southeast: \" + str(south_east_female))\n",
    "                                                       \n",
    "print(\"\\nThe number of male patients per region:\")\n",
    "print(\"Northwest: \" + str(north_west_male) + \"\\t\\t Northeast: \" + str(north_east_male))\n",
    "print(\"Southwest: \" + str(south_west_male) + \"\\t\\t Southeast: \" + str(south_east_male))"
   ]
  },
  {
   "cell_type": "markdown",
   "metadata": {},
   "source": [
    "The final question to be answered is a breakdown of average cost and sex ratio by region. Earlier analysis found that were more patients in the southeast than any other region. However, using the average cost should remove any differences caused by the distribution of patients. When looking at average price alone, the southeast also has the highest average cost of any region. Patients from any part of the eastern U.S. region have a higher average cost than patients from the western U.S.\n",
    "\n",
    "When observing the gender breakdown of each region. Most regions are very closely related. However, the southeast again is an outlier with a greater number of male patients than female patients. However, this would not lead to higher average female costs because this region has higher average costs than other regions."
   ]
  },
  {
   "cell_type": "markdown",
   "metadata": {},
   "source": [
    "## Conclusion\n",
    "\n",
    "After analyzing this dataset of U.S. medical insurance costs, the results illustrate that there is a correlation between gender and the cost for medical insurance. The conclusion is that the average female patient spends more on medical insurance than the average male patient. In addition, the analysis shows that smoking, age, body mass index, and region have all been ruled out as factors that could alter these findings according to this dataset."
   ]
  }
 ],
 "metadata": {
  "kernelspec": {
   "display_name": "Python 3",
   "language": "python",
   "name": "python3"
  },
  "language_info": {
   "codemirror_mode": {
    "name": "ipython",
    "version": 3
   },
   "file_extension": ".py",
   "mimetype": "text/x-python",
   "name": "python",
   "nbconvert_exporter": "python",
   "pygments_lexer": "ipython3",
   "version": "3.8.3"
  }
 },
 "nbformat": 4,
 "nbformat_minor": 4
}
